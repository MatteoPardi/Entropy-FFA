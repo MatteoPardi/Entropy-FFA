{
 "cells": [
  {
   "cell_type": "markdown",
   "id": "4a08dc49",
   "metadata": {},
   "source": [
    "# MNIST Experiment: T On 200"
   ]
  },
  {
   "cell_type": "code",
   "execution_count": 1,
   "id": "3da12675",
   "metadata": {},
   "outputs": [],
   "source": [
    "import sys\n",
    "sys.path.insert(1, '../_tools/')\n",
    "import torch as th\n",
    "import torch.nn as nn\n",
    "import numpy as np\n",
    "import torchvision\n",
    "import torchvision.transforms as trasf\n",
    "from utils.tensordata import TDataset, TDataloader, PosNeg_Bootstrap_TDataloader\n",
    "from utils.model_selection import GridSearchCV, RandomSearchCV, Fixed, LogUniform\n",
    "from twomoon import TwoMoon\n",
    "from ffa import FFA_withEntropy\n",
    "import matplotlib.pyplot as plt\n",
    "\n",
    "exp_name = 'T On 200'\n",
    "\n",
    "seed = 42\n",
    "th.manual_seed(seed)\n",
    "np.random.seed(seed)\n",
    "device = th.device('cuda' if th.cuda.is_available() else 'cpu')"
   ]
  },
  {
   "cell_type": "markdown",
   "id": "dd658f3c",
   "metadata": {},
   "source": [
    "### Data"
   ]
  },
  {
   "cell_type": "code",
   "execution_count": 2,
   "id": "62d6ef19",
   "metadata": {},
   "outputs": [],
   "source": [
    "DS_torch_dataset = torchvision.datasets.MNIST(\n",
    "    root=r\"C:\\Users\\matte\\LocalData\\Master Thesis\",\n",
    "    train=True,\n",
    "    download=True,\n",
    "    transform=trasf.ToTensor()\n",
    ")\n",
    "TS_torch_dataset = torchvision.datasets.MNIST(\n",
    "    root=r\"C:\\Users\\matte\\LocalData\\Master Thesis\",\n",
    "    train=False,\n",
    "    download=True,\n",
    "    transform=trasf.ToTensor()\n",
    ")\n",
    "\n",
    "# Load everything\n",
    "DS = TDataset(\n",
    "    x=th.stack([x.flatten() for x, y in DS_torch_dataset]).to(device),\n",
    "    y=th.tensor([y for x, y in DS_torch_dataset], device=device).reshape(-1, 1)\n",
    ")\n",
    "TS = TDataset(\n",
    "    x=th.stack([x.flatten() for x, y in TS_torch_dataset]).to(device),\n",
    "    y=th.tensor([y for x, y in TS_torch_dataset], device=device).reshape(-1, 1)\n",
    ")\n",
    "TR, VL = DS.random_split(5/6)\n",
    "\n",
    "# Dataloaders\n",
    "batch_size = 128\n",
    "DS_dl = DS.dataloader(batch_size=batch_size)\n",
    "TR_dl = TR.dataloader(batch_size=batch_size)\n",
    "VL_dl = VL.dataloader(batch_size=batch_size)\n",
    "TS_dl = TS.dataloader(batch_size=batch_size)\n",
    "TR_pndl = PosNeg_Bootstrap_TDataloader(TR, batch_size=batch_size)\n",
    "DS_pndl = PosNeg_Bootstrap_TDataloader(DS, batch_size=batch_size)"
   ]
  },
  {
   "cell_type": "markdown",
   "id": "aecf8663",
   "metadata": {},
   "source": [
    "### Model"
   ]
  },
  {
   "cell_type": "code",
   "execution_count": 3,
   "id": "90728094",
   "metadata": {},
   "outputs": [],
   "source": [
    "Model = FFA_withEntropy"
   ]
  },
  {
   "cell_type": "markdown",
   "id": "c04bd0fd",
   "metadata": {},
   "source": [
    "***"
   ]
  },
  {
   "cell_type": "markdown",
   "id": "3be85a26",
   "metadata": {},
   "source": [
    "### Preliminary Screening"
   ]
  },
  {
   "cell_type": "raw",
   "id": "1d62aaf3",
   "metadata": {},
   "source": [
    "hyp = {\n",
    "    'Nclasses': 10,\n",
    "    'A': (784+10, 200, 200, 200),\n",
    "    'f_hid': nn.ReLU(),\n",
    "    'lr_hot': 0.05,\n",
    "    'lr_cold': 0.05,\n",
    "    'momentum': 0.99, \n",
    "    'weight_decay': 1.7e-7,\n",
    "    'temperature': 1,\n",
    "    'kernel_scale': 20,\n",
    "    'Nepochs': 24\n",
    "}\n",
    "M = Model(hyp).to(device)\n",
    "M.fit(TR_pndl, verbose=True)"
   ]
  },
  {
   "cell_type": "raw",
   "id": "f1551a33",
   "metadata": {},
   "source": [
    "M.plot_curve()\n",
    "print(f\"acc(TR) = {(1-M.TS_loop(TR_dl))*100:.3g} %\")\n",
    "print(f\"acc(VL) = {(1-M.TS_loop(VL_dl))*100:.3g} %\")"
   ]
  },
  {
   "cell_type": "markdown",
   "id": "4140960a",
   "metadata": {},
   "source": [
    "***"
   ]
  },
  {
   "cell_type": "markdown",
   "id": "0078a07b",
   "metadata": {},
   "source": [
    "### Model Selection + Final Retraining"
   ]
  },
  {
   "cell_type": "code",
   "execution_count": 4,
   "id": "dfdf7d58",
   "metadata": {},
   "outputs": [
    {
     "name": "stderr",
     "output_type": "stream",
     "text": [
      "GridSearchCV: 100%|████████████████████████████████████████████████████████████████| 18/18 [6:16:47<00:00, 1256.00s/it]\n"
     ]
    },
    {
     "name": "stdout",
     "output_type": "stream",
     "text": [
      "The winner is:\n",
      "hyp: {\n",
      " Nclasses: 10,\n",
      " A: (794, 200, 200, 200),\n",
      " f_hid: ReLU(),\n",
      " lr_hot: 0.05,\n",
      " lr_cold: 0.05,\n",
      " momentum: 0.99,\n",
      " weight_decay: 1e-06,\n",
      " temperature: 1.0,\n",
      " kernel_scale: 30.0,\n",
      " Nepochs: 24,\n",
      "}\n",
      "E(VL) = 0.0203\n",
      "E(TR) = 0.00214\n",
      "Note: E == 1 - accuracy\n"
     ]
    },
    {
     "name": "stderr",
     "output_type": "stream",
     "text": [
      "GridSearchCV: 100%|██████████████████████████████████████████████████████████████████| 9/9 [2:49:31<00:00, 1130.12s/it]\n"
     ]
    },
    {
     "name": "stdout",
     "output_type": "stream",
     "text": [
      "The winner is:\n",
      "hyp: {\n",
      " Nclasses: 10,\n",
      " A: (794, 200, 200, 200),\n",
      " f_hid: ReLU(),\n",
      " lr_hot: 0.05,\n",
      " lr_cold: 0.05,\n",
      " momentum: 0.99,\n",
      " weight_decay: 1e-06,\n",
      " temperature: 3.0,\n",
      " kernel_scale: 90.0,\n",
      " Nepochs: 24,\n",
      "}\n",
      "E(VL) = 0.02\n",
      "E(TR) = 0.0023\n",
      "Note: E == 1 - accuracy\n",
      "\n",
      "--------------------Final Retraining--------------------\n",
      "acc(TR) = 99.8 %\n"
     ]
    }
   ],
   "source": [
    "# Macro Grid\n",
    "grid = {\n",
    "    'Nclasses': [10],\n",
    "    'A': [(784+10, 200, 200, 200)],\n",
    "    'f_hid': [nn.ReLU()],\n",
    "    'lr_hot': [0.05],\n",
    "    'lr_cold': [0.05],\n",
    "    'momentum': [0.99], \n",
    "    'weight_decay': [1e-8, 1e-6],\n",
    "    'temperature': [0.1, 1., 10.],\n",
    "    'kernel_scale': [0.3, 3., 30.],\n",
    "    'Nepochs': [24]\n",
    "}\n",
    "ModelSelection = GridSearchCV(Model, grid, device)       \n",
    "ModelSelection.run(TR_dl, VL_dl, TR_pndl)\n",
    "ModelSelection.save(\"model selection results/\" + exp_name + \" - macro grid.txt\")\n",
    "print(ModelSelection)\n",
    "print(\"Note: E == 1 - accuracy\")\n",
    "\n",
    "best = ModelSelection.results[0]['hyp']\n",
    "# Micro grid\n",
    "grid = {\n",
    "    'Nclasses': [10],\n",
    "    'A': [(784+10, 200, 200, 200)],\n",
    "    'f_hid': [nn.ReLU()],\n",
    "    'lr_hot': [0.05],\n",
    "    'lr_cold': [0.05],\n",
    "    'momentum': [0.99], \n",
    "    'weight_decay': [best['weight_decay']],\n",
    "    'temperature': [best['temperature']/3, best['temperature'], best['temperature']*3 ],\n",
    "    'kernel_scale': [best['kernel_scale']/3, best['kernel_scale'], best['kernel_scale']*3],\n",
    "    'Nepochs': [24]\n",
    "}\n",
    "ModelSelection = GridSearchCV(Model, grid, device)       \n",
    "ModelSelection.run(TR_dl, VL_dl, TR_pndl)\n",
    "ModelSelection.save(\"model selection results/\" + exp_name + \" - micro grid.txt\")\n",
    "print(ModelSelection)\n",
    "print(\"Note: E == 1 - accuracy\")\n",
    "\n",
    "# Final Retraining\n",
    "M = Model(ModelSelection.results[0]['hyp']).to(device)\n",
    "print('\\n' + '-'*20 + \"Final Retraining\" + '-'*20)\n",
    "M.fit(DS_pndl)\n",
    "print(f\"acc(TR) = {(1-M.TS_loop(DS_dl))*100:.3g} %\")\n",
    "th.save(M, 'final models/' + exp_name + '.pt')"
   ]
  },
  {
   "cell_type": "markdown",
   "id": "0dbdcc2a",
   "metadata": {},
   "source": [
    "***"
   ]
  },
  {
   "cell_type": "markdown",
   "id": "45030a41",
   "metadata": {},
   "source": [
    "### Analysis"
   ]
  },
  {
   "cell_type": "markdown",
   "id": "1c45fec9",
   "metadata": {},
   "source": [
    "Note: noisy curves are expected, due to bootstrap and random generation of different negative data at each epoch."
   ]
  },
  {
   "cell_type": "code",
   "execution_count": 5,
   "id": "21de4221",
   "metadata": {},
   "outputs": [
    {
     "data": {
      "image/png": "[encoded data removed]",
      "text/plain": [
       "<Figure size 980x250 with 3 Axes>"
      ]
     },
     "metadata": {},
     "output_type": "display_data"
    }
   ],
   "source": [
    "M = th.load('final models/' + exp_name + '.pt').to(device)\n",
    "M.plot_curve()"
   ]
  },
  {
   "cell_type": "code",
   "execution_count": 6,
   "id": "e2817fa2",
   "metadata": {
    "scrolled": false
   },
   "outputs": [
    {
     "name": "stdout",
     "output_type": "stream",
     "text": [
      "gather     accuracy%\n",
      "[1, 1, 1]  98.32\n",
      "[0, 1, 1]  98.3\n",
      "[1, 0, 0]  97.49\n",
      "[0, 1, 0]  98.12\n",
      "[0, 0, 1]  97.82\n"
     ]
    }
   ],
   "source": [
    "gathers = [\n",
    "    [1, 1, 1],\n",
    "    [0, 1, 1],\n",
    "    [1, 0, 0],\n",
    "    [0, 1, 0],\n",
    "    [0, 0, 1]   \n",
    "]\n",
    "print(\"gather     accuracy%\")\n",
    "for gather in gathers:\n",
    "    M.gather.data = th.tensor(gather, device=device).float()\n",
    "    print(f\"{gather}  {(1-M.TS_loop(TS_dl))*100:.5g}\")"
   ]
  },
  {
   "cell_type": "markdown",
   "id": "ab7e3e14",
   "metadata": {},
   "source": [
    "#### Different initializations different results?"
   ]
  },
  {
   "cell_type": "code",
   "execution_count": 7,
   "id": "8c35dcd5",
   "metadata": {
    "scrolled": true
   },
   "outputs": [
    {
     "name": "stdout",
     "output_type": "stream",
     "text": [
      "gather     accuracy%\n",
      "[1, 1, 1]  98.22 +- 0.07874\n",
      "[0, 1, 1]  98.228 +- 0.090388\n",
      "[1, 0, 0]  97.354 +- 0.067676\n",
      "[0, 1, 0]  98.072 +- 0.11432\n",
      "[0, 0, 1]  97.954 +- 0.079246\n"
     ]
    }
   ],
   "source": [
    "M = th.load('final models/' + exp_name + '.pt').to(device)\n",
    "\n",
    "N_trials = 5\n",
    "TS_acc = []\n",
    "for i in range(N_trials):\n",
    "    M.fit(DS_pndl)\n",
    "    this_trial_results = []\n",
    "    for gather in gathers:\n",
    "        M.gather.data = th.tensor(gather, device=device).float()\n",
    "        this_trial_results.append((1-M.TS_loop(TS_dl))*100)   \n",
    "    TS_acc.append(this_trial_results)   \n",
    "TS_acc = np.asarray(TS_acc)\n",
    "TS_mean = np.mean(TS_acc, axis=0)\n",
    "TS_std = np.std(TS_acc, axis=0, ddof=1)\n",
    "\n",
    "print(\"gather     accuracy%\")\n",
    "for i in range(len(gathers)):\n",
    "    print(f\"{gathers[i]}  {TS_mean[i]:.5g} +- {TS_std[i]:.5g}\")"
   ]
  }
 ],
 "metadata": {
  "kernelspec": {
   "display_name": "Python 3 (ipykernel)",
   "language": "python",
   "name": "python3"
  },
  "language_info": {
   "codemirror_mode": {
    "name": "ipython",
    "version": 3
   },
   "file_extension": ".py",
   "mimetype": "text/x-python",
   "name": "python",
   "nbconvert_exporter": "python",
   "pygments_lexer": "ipython3",
   "version": "3.9.13"
  }
 },
 "nbformat": 4,
 "nbformat_minor": 5
}
