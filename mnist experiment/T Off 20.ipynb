{
 "cells": [
  {
   "cell_type": "markdown",
   "id": "4a08dc49",
   "metadata": {
    "id": "4a08dc49"
   },
   "source": [
    "# MNIST Experiment: T Off 20"
   ]
  },
  {
   "cell_type": "code",
   "execution_count": 1,
   "id": "3da12675",
   "metadata": {
    "executionInfo": {
     "elapsed": 2,
     "status": "ok",
     "timestamp": 1682688930235,
     "user": {
      "displayName": "Matteo Pardi",
      "userId": "06629714396265038065"
     },
     "user_tz": -120
    },
    "id": "3da12675"
   },
   "outputs": [],
   "source": [
    "import sys\n",
    "sys.path.insert(1, '../_tools/')\n",
    "import torch as th\n",
    "import torch.nn as nn\n",
    "import numpy as np\n",
    "import torchvision\n",
    "import torchvision.transforms as trasf\n",
    "from utils.tensordata import TDataset, TDataloader, PosNeg_Bootstrap_TDataloader\n",
    "from utils.model_selection import GridSearchCV, RandomSearchCV, Fixed, LogUniform\n",
    "from twomoon import TwoMoon\n",
    "from ffa import FFA_withEntropy\n",
    "import matplotlib.pyplot as plt\n",
    "\n",
    "exp_name = 'T Off 20'\n",
    "\n",
    "seed = 42\n",
    "th.manual_seed(seed)\n",
    "np.random.seed(seed)\n",
    "device = th.device('cuda' if th.cuda.is_available() else 'cpu')"
   ]
  },
  {
   "cell_type": "markdown",
   "id": "dd658f3c",
   "metadata": {
    "id": "dd658f3c"
   },
   "source": [
    "### Data"
   ]
  },
  {
   "cell_type": "code",
   "execution_count": 2,
   "id": "62d6ef19",
   "metadata": {
    "executionInfo": {
     "elapsed": 19567,
     "status": "ok",
     "timestamp": 1682688949800,
     "user": {
      "displayName": "Matteo Pardi",
      "userId": "06629714396265038065"
     },
     "user_tz": -120
    },
    "id": "62d6ef19"
   },
   "outputs": [],
   "source": [
    "DS_torch_dataset = torchvision.datasets.MNIST(\n",
    "    root=r\"C:\\Users\\matte\\LocalData\\Master Thesis\",\n",
    "    train=True,\n",
    "    download=True,\n",
    "    transform=trasf.ToTensor()\n",
    ")\n",
    "TS_torch_dataset = torchvision.datasets.MNIST(\n",
    "    root=r\"C:\\Users\\matte\\LocalData\\Master Thesis\",\n",
    "    train=False,\n",
    "    download=True,\n",
    "    transform=trasf.ToTensor()\n",
    ")\n",
    "\n",
    "# Load everything\n",
    "DS = TDataset(\n",
    "    x=th.stack([x.flatten() for x, y in DS_torch_dataset]).to(device),\n",
    "    y=th.tensor([y for x, y in DS_torch_dataset], device=device).reshape(-1, 1)\n",
    ")\n",
    "TS = TDataset(\n",
    "    x=th.stack([x.flatten() for x, y in TS_torch_dataset]).to(device),\n",
    "    y=th.tensor([y for x, y in TS_torch_dataset], device=device).reshape(-1, 1)\n",
    ")\n",
    "TR, VL = DS.random_split(5/6)\n",
    "\n",
    "# Dataloaders\n",
    "batch_size = 128\n",
    "DS_dl = DS.dataloader(batch_size=batch_size)\n",
    "TR_dl = TR.dataloader(batch_size=batch_size)\n",
    "VL_dl = VL.dataloader(batch_size=batch_size)\n",
    "TS_dl = TS.dataloader(batch_size=batch_size)\n",
    "TR_pndl = PosNeg_Bootstrap_TDataloader(TR, batch_size=batch_size)\n",
    "DS_pndl = PosNeg_Bootstrap_TDataloader(DS, batch_size=batch_size)"
   ]
  },
  {
   "cell_type": "markdown",
   "id": "aecf8663",
   "metadata": {
    "id": "aecf8663"
   },
   "source": [
    "### Model"
   ]
  },
  {
   "cell_type": "code",
   "execution_count": 3,
   "id": "90728094",
   "metadata": {
    "executionInfo": {
     "elapsed": 4,
     "status": "ok",
     "timestamp": 1682688949800,
     "user": {
      "displayName": "Matteo Pardi",
      "userId": "06629714396265038065"
     },
     "user_tz": -120
    },
    "id": "90728094"
   },
   "outputs": [],
   "source": [
    "Model = FFA_withEntropy"
   ]
  },
  {
   "cell_type": "markdown",
   "id": "b984e7f2",
   "metadata": {
    "id": "b984e7f2"
   },
   "source": [
    "### Kernel Scale"
   ]
  },
  {
   "cell_type": "markdown",
   "id": "54b61ff5",
   "metadata": {
    "id": "54b61ff5"
   },
   "source": [
    "The value found in the 'T on' experiment"
   ]
  },
  {
   "cell_type": "code",
   "execution_count": 4,
   "id": "51f86f83",
   "metadata": {
    "executionInfo": {
     "elapsed": 4,
     "status": "ok",
     "timestamp": 1682688949801,
     "user": {
      "displayName": "Matteo Pardi",
      "userId": "06629714396265038065"
     },
     "user_tz": -120
    },
    "id": "51f86f83"
   },
   "outputs": [],
   "source": [
    "kern_sc = 10."
   ]
  },
  {
   "cell_type": "markdown",
   "id": "c04bd0fd",
   "metadata": {
    "id": "c04bd0fd"
   },
   "source": [
    "***"
   ]
  },
  {
   "cell_type": "markdown",
   "id": "3be85a26",
   "metadata": {
    "id": "3be85a26"
   },
   "source": [
    "### Preliminary Screening"
   ]
  },
  {
   "cell_type": "raw",
   "id": "d5e3b2a2",
   "metadata": {},
   "source": [
    "hyp = {\n",
    "    'Nclasses': 10,\n",
    "    'A': (784+10, 20, 20, 20),\n",
    "    'f_hid': nn.ReLU(),\n",
    "    'lr_hot': 0.01,\n",
    "    'lr_cold': 0.01,\n",
    "    'momentum': 0.99, \n",
    "    'weight_decay': 1e-6,\n",
    "    'temperature': 0,\n",
    "    'kernel_scale': kern_sc, # the value found in 'T on' experiment, to compare the value of H\n",
    "    'Nepochs': 24\n",
    "}\n",
    "M = Model(hyp).to(device)\n",
    "M.fit(TR_pndl, verbose=True)"
   ]
  },
  {
   "cell_type": "markdown",
   "id": "4140960a",
   "metadata": {
    "id": "4140960a"
   },
   "source": [
    "***"
   ]
  },
  {
   "cell_type": "markdown",
   "id": "0078a07b",
   "metadata": {
    "id": "0078a07b"
   },
   "source": [
    "### Model Selection + Final Retraining"
   ]
  },
  {
   "cell_type": "code",
   "execution_count": 5,
   "id": "dfdf7d58",
   "metadata": {
    "colab": {
     "base_uri": "https://localhost:8080/"
    },
    "executionInfo": {
     "elapsed": 3866108,
     "status": "ok",
     "timestamp": 1682692815905,
     "user": {
      "displayName": "Matteo Pardi",
      "userId": "06629714396265038065"
     },
     "user_tz": -120
    },
    "id": "dfdf7d58",
    "outputId": "0a0bb518-955d-48a1-de4b-3832c3d8e06c"
   },
   "outputs": [
    {
     "name": "stderr",
     "output_type": "stream",
     "text": [
      "GridSearchCV: 100%|███████████████████████████████████████████████████████████████████| 5/5 [1:18:14<00:00, 938.99s/it]\n"
     ]
    },
    {
     "name": "stdout",
     "output_type": "stream",
     "text": [
      "The winner is:\n",
      "hyp: {\n",
      " Nclasses: 10,\n",
      " A: (794, 20, 20, 20),\n",
      " f_hid: ReLU(),\n",
      " lr_hot: 0.01,\n",
      " lr_cold: 0.01,\n",
      " momentum: 0.99,\n",
      " weight_decay: 0.0001,\n",
      " temperature: 0,\n",
      " kernel_scale: 10.0,\n",
      " Nepochs: 24,\n",
      "}\n",
      "E(VL) = 0.083\n",
      "E(TR) = 0.0743\n",
      "Note: E == 1 - accuracy\n",
      "\n",
      "--------------------Final Retraining--------------------\n",
      "acc(TR) = 91.6 %\n"
     ]
    }
   ],
   "source": [
    "grid = {\n",
    "    'Nclasses': [10],\n",
    "    'A': [(784+10, 20, 20, 20)],\n",
    "    'f_hid': [nn.ReLU()],\n",
    "    'lr_hot': [0.01],\n",
    "    'lr_cold': [0.01],\n",
    "    'momentum': [0.99], \n",
    "    'weight_decay': np.geomspace(1e-8, 1e-4, 5).tolist(),\n",
    "    'temperature': [0],\n",
    "    'kernel_scale': [kern_sc], # the value found in 'T on' experiment, to compare the value of H\n",
    "    'Nepochs': [24]\n",
    "}\n",
    "ModelSelection = GridSearchCV(Model, grid, device)      \n",
    "ModelSelection.run(TR_dl, VL_dl, TR_pndl)\n",
    "ModelSelection.save(\"model selection results/\" + exp_name + \".txt\")\n",
    "print(ModelSelection)\n",
    "print(\"Note: E == 1 - accuracy\")\n",
    "\n",
    "# Final Retraining\n",
    "M = Model(ModelSelection.results[0]['hyp']).to(device)\n",
    "print('\\n' + '-'*20 + \"Final Retraining\" + '-'*20)\n",
    "M.fit(DS_pndl)\n",
    "print(f\"acc(TR) = {(1-M.TS_loop(DS_dl))*100:.3g} %\")\n",
    "th.save(M, 'final models/' + exp_name + '.pt')"
   ]
  },
  {
   "cell_type": "markdown",
   "id": "0dbdcc2a",
   "metadata": {
    "id": "0dbdcc2a"
   },
   "source": [
    "***"
   ]
  },
  {
   "cell_type": "markdown",
   "id": "45030a41",
   "metadata": {
    "id": "45030a41"
   },
   "source": [
    "### Analysis"
   ]
  },
  {
   "cell_type": "markdown",
   "id": "a111b08a",
   "metadata": {},
   "source": [
    "Note: noisy curves are expected, due to bootstrap and random generation of different negative data at each epoch."
   ]
  },
  {
   "cell_type": "code",
   "execution_count": 6,
   "id": "21de4221",
   "metadata": {
    "colab": {
     "base_uri": "https://localhost:8080/",
     "height": 376
    },
    "executionInfo": {
     "elapsed": 617,
     "status": "ok",
     "timestamp": 1682692816512,
     "user": {
      "displayName": "Matteo Pardi",
      "userId": "06629714396265038065"
     },
     "user_tz": -120
    },
    "id": "21de4221",
    "outputId": "989aa2bf-8ac6-425d-ad1f-7e0e7ff203e4"
   },
   "outputs": [
    {
     "data": {
      "image/png": "[encoded data removed]",
      "text/plain": [
       "<Figure size 980x250 with 3 Axes>"
      ]
     },
     "metadata": {},
     "output_type": "display_data"
    }
   ],
   "source": [
    "M = th.load('final models/' + exp_name + '.pt').to(device)\n",
    "M.plot_curve()"
   ]
  },
  {
   "cell_type": "code",
   "execution_count": 7,
   "id": "e2817fa2",
   "metadata": {
    "colab": {
     "base_uri": "https://localhost:8080/"
    },
    "executionInfo": {
     "elapsed": 249,
     "status": "ok",
     "timestamp": 1682692816757,
     "user": {
      "displayName": "Matteo Pardi",
      "userId": "06629714396265038065"
     },
     "user_tz": -120
    },
    "id": "e2817fa2",
    "outputId": "f99a0998-8609-486a-c821-f07d5b9e8546",
    "scrolled": false
   },
   "outputs": [
    {
     "name": "stdout",
     "output_type": "stream",
     "text": [
      "gather     accuracy%\n",
      "[1, 1, 1]  92.53\n",
      "[0, 1, 1]  91.6\n",
      "[1, 0, 0]  92.54\n",
      "[0, 1, 0]  91.75\n",
      "[0, 0, 1]  84.87\n"
     ]
    }
   ],
   "source": [
    "gathers = [\n",
    "    [1, 1, 1],\n",
    "    [0, 1, 1],\n",
    "    [1, 0, 0],\n",
    "    [0, 1, 0],\n",
    "    [0, 0, 1]   \n",
    "]\n",
    "print(\"gather     accuracy%\")\n",
    "for gather in gathers:\n",
    "    M.gather.data = th.tensor(gather, device=device).float()\n",
    "    print(f\"{gather}  {(1-M.TS_loop(TS_dl))*100:.5g}\")"
   ]
  },
  {
   "cell_type": "markdown",
   "id": "ab7e3e14",
   "metadata": {
    "id": "ab7e3e14"
   },
   "source": [
    "#### Different initializations different results?"
   ]
  },
  {
   "cell_type": "code",
   "execution_count": 8,
   "id": "8c35dcd5",
   "metadata": {
    "colab": {
     "base_uri": "https://localhost:8080/"
    },
    "executionInfo": {
     "elapsed": 3784508,
     "status": "ok",
     "timestamp": 1682696601265,
     "user": {
      "displayName": "Matteo Pardi",
      "userId": "06629714396265038065"
     },
     "user_tz": -120
    },
    "id": "8c35dcd5",
    "outputId": "722726c0-2ef6-48b1-e744-295cc28b676c"
   },
   "outputs": [
    {
     "name": "stdout",
     "output_type": "stream",
     "text": [
      "gather     accuracy%\n",
      "[1, 1, 1]  92.864 +- 0.15176\n",
      "[0, 1, 1]  92.422 +- 0.26338\n",
      "[1, 0, 0]  92.424 +- 0.11971\n",
      "[0, 1, 0]  92.556 +- 0.31533\n",
      "[0, 0, 1]  87.468 +- 1.763\n"
     ]
    }
   ],
   "source": [
    "M = th.load('final models/' + exp_name + '.pt').to(device)\n",
    "\n",
    "N_trials = 5\n",
    "TS_acc = []\n",
    "for i in range(N_trials):\n",
    "    M.fit(DS_pndl)\n",
    "    this_trial_results = []\n",
    "    for gather in gathers:\n",
    "        M.gather.data = th.tensor(gather, device=device).float()\n",
    "        this_trial_results.append((1-M.TS_loop(TS_dl))*100)   \n",
    "    TS_acc.append(this_trial_results)   \n",
    "TS_acc = np.asarray(TS_acc)\n",
    "TS_mean = np.mean(TS_acc, axis=0)\n",
    "TS_std = np.std(TS_acc, axis=0, ddof=1)\n",
    "\n",
    "print(\"gather     accuracy%\")\n",
    "for i in range(len(gathers)):\n",
    "    print(f\"{gathers[i]}  {TS_mean[i]:.5g} +- {TS_std[i]:.5g}\")"
   ]
  }
 ],
 "metadata": {
  "accelerator": "GPU",
  "colab": {
   "provenance": []
  },
  "gpuClass": "standard",
  "kernelspec": {
   "display_name": "Python 3 (ipykernel)",
   "language": "python",
   "name": "python3"
  },
  "language_info": {
   "codemirror_mode": {
    "name": "ipython",
    "version": 3
   },
   "file_extension": ".py",
   "mimetype": "text/x-python",
   "name": "python",
   "nbconvert_exporter": "python",
   "pygments_lexer": "ipython3",
   "version": "3.9.13"
  }
 },
 "nbformat": 4,
 "nbformat_minor": 5
}
