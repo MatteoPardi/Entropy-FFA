{
 "cells": [
  {
   "cell_type": "markdown",
   "id": "4a08dc49",
   "metadata": {
    "id": "4a08dc49"
   },
   "source": [
    "# DeepView MNIST"
   ]
  },
  {
   "cell_type": "code",
   "execution_count": 1,
   "id": "f87379ca",
   "metadata": {},
   "outputs": [],
   "source": [
    "import sys\n",
    "sys.path.insert(1, '../')\n",
    "sys.path.insert(1, '../../_tools/')\n",
    "from deepview import DeepView\n",
    "import torch as th\n",
    "import torchvision\n",
    "import torchvision.transforms as trasf\n",
    "import numpy as np\n",
    "%load_ext autoreload\n",
    "%autoreload 2\n",
    "%matplotlib qt\n",
    "%matplotlib qt\n",
    "\n",
    "seed = 42\n",
    "th.manual_seed(seed)\n",
    "np.random.seed(seed)\n",
    "device = th.device('cuda')"
   ]
  },
  {
   "cell_type": "markdown",
   "id": "7aaa3d47",
   "metadata": {},
   "source": [
    "### Data"
   ]
  },
  {
   "cell_type": "code",
   "execution_count": 2,
   "id": "edf8e765",
   "metadata": {},
   "outputs": [],
   "source": [
    "TS_torch_dataset = torchvision.datasets.MNIST(\n",
    "    root=r\"C:\\Users\\matte\\LocalData\\Master Thesis\",\n",
    "    train=False,\n",
    "    download=True,\n",
    "    transform=trasf.ToTensor()\n",
    ")\n",
    "\n",
    "# Load everything\n",
    "TSx = th.stack([x.flatten() for x, y in TS_torch_dataset]).cpu().numpy()\n",
    "TSy = th.tensor([y for x, y in TS_torch_dataset]).flatten().cpu().numpy()"
   ]
  },
  {
   "cell_type": "markdown",
   "id": "9a5b6780",
   "metadata": {},
   "source": [
    "### Models"
   ]
  },
  {
   "cell_type": "code",
   "execution_count": 3,
   "id": "775459d9",
   "metadata": {},
   "outputs": [],
   "source": [
    "base_path = \"../../mnist experiment/final models/\"\n",
    "\n",
    "models = {\n",
    "    'T off 20': None,\n",
    "    'T on 20': None,\n",
    "    'T off 200': None,\n",
    "    'T on 200': None,\n",
    "    'T off 2000': None,\n",
    "    'T on 2000': None\n",
    "}\n",
    "\n",
    "for exp in models:\n",
    "    models[exp] = th.load(base_path+exp+'.pt', device)"
   ]
  },
  {
   "cell_type": "markdown",
   "id": "d7babd03",
   "metadata": {},
   "source": [
    "***"
   ]
  },
  {
   "cell_type": "code",
   "execution_count": 4,
   "id": "89b42996",
   "metadata": {},
   "outputs": [
    {
     "name": "stdout",
     "output_type": "stream",
     "text": [
      "T off 20\n",
      "Distance calculation 20.00 %\n",
      "Distance calculation 40.00 %\n",
      "Distance calculation 60.00 %\n",
      "Distance calculation 80.00 %\n",
      "Distance calculation 100.00 %\n",
      "Embedding samples ...\n",
      "Computing decision regions ...\n",
      "T on 20\n",
      "Distance calculation 20.00 %\n",
      "Distance calculation 40.00 %\n",
      "Distance calculation 60.00 %\n",
      "Distance calculation 80.00 %\n",
      "Distance calculation 100.00 %\n",
      "Embedding samples ...\n",
      "Computing decision regions ...\n",
      "T off 200\n",
      "Distance calculation 20.00 %\n",
      "Distance calculation 40.00 %\n",
      "Distance calculation 60.00 %\n",
      "Distance calculation 80.00 %\n",
      "Distance calculation 100.00 %\n",
      "Embedding samples ...\n",
      "Computing decision regions ...\n",
      "T on 200\n",
      "Distance calculation 20.00 %\n",
      "Distance calculation 40.00 %\n",
      "Distance calculation 60.00 %\n",
      "Distance calculation 80.00 %\n",
      "Distance calculation 100.00 %\n",
      "Embedding samples ...\n",
      "Computing decision regions ...\n",
      "T off 2000\n",
      "Distance calculation 20.00 %\n",
      "Distance calculation 40.00 %\n",
      "Distance calculation 60.00 %\n",
      "Distance calculation 80.00 %\n",
      "Distance calculation 100.00 %\n",
      "Embedding samples ...\n",
      "Computing decision regions ...\n",
      "T on 2000\n",
      "Distance calculation 20.00 %\n",
      "Distance calculation 40.00 %\n",
      "Distance calculation 60.00 %\n",
      "Distance calculation 80.00 %\n",
      "Distance calculation 100.00 %\n",
      "Embedding samples ...\n",
      "Computing decision regions ...\n"
     ]
    }
   ],
   "source": [
    "classes = tuple(str(d) for d in range(0, 10))\n",
    "\n",
    "n_samples = 500\n",
    "idx = np.random.choice(TSx.shape[0], n_samples)\n",
    "x = TSx[idx]\n",
    "y = TSy[idx]\n",
    "\n",
    "for exp, model in models.items():\n",
    "    \n",
    "    print(exp)\n",
    "    \n",
    "    def pred_wrapper(x):\n",
    "        with th.no_grad():\n",
    "            x = np.array(x, dtype=np.float32)\n",
    "            tensor = th.from_numpy(x).to(device)\n",
    "            proba = model.predict_proba(tensor).cpu().numpy()\n",
    "        return proba\n",
    "\n",
    "    # --- Deep View Parameters ----\n",
    "    batch_size = 512\n",
    "    max_samples = 500\n",
    "    data_shape = (784, )\n",
    "    lam = .75\n",
    "    title = exp\n",
    "\n",
    "    deepview = DeepView(pred_wrapper, classes, max_samples, batch_size, \n",
    "                        data_shape, lam=lam, title=title)\n",
    "    \n",
    "    deepview.add_samples(x, y)\n",
    "    deepview.show()"
   ]
  }
 ],
 "metadata": {
  "accelerator": "GPU",
  "colab": {
   "provenance": []
  },
  "gpuClass": "standard",
  "kernelspec": {
   "display_name": "Python 3 (ipykernel)",
   "language": "python",
   "name": "python3"
  },
  "language_info": {
   "codemirror_mode": {
    "name": "ipython",
    "version": 3
   },
   "file_extension": ".py",
   "mimetype": "text/x-python",
   "name": "python",
   "nbconvert_exporter": "python",
   "pygments_lexer": "ipython3",
   "version": "3.9.13"
  }
 },
 "nbformat": 4,
 "nbformat_minor": 5
}
