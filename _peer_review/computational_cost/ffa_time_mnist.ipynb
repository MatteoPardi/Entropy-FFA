{
 "cells": [
  {
   "cell_type": "markdown",
   "id": "4a08dc49",
   "metadata": {
    "id": "4a08dc49"
   },
   "source": [
    "# Time of layer 1. MNIST"
   ]
  },
  {
   "cell_type": "code",
   "execution_count": 1,
   "id": "f87379ca",
   "metadata": {},
   "outputs": [],
   "source": [
    "import sys\n",
    "sys.path.insert(1, '../../_tools/')\n",
    "import torch as th\n",
    "import torch.nn as nn\n",
    "import numpy as np\n",
    "import torchvision\n",
    "import torchvision.transforms as trasf\n",
    "from utils.tensordata import TDataset, TDataloader, PosNeg_Bootstrap_TDataloader\n",
    "from ffa import FFA_withEntropy\n",
    "import matplotlib.pyplot as plt\n",
    "\n",
    "seed = 42\n",
    "th.manual_seed(seed)\n",
    "np.random.seed(seed)\n",
    "device = th.device('cuda' if th.cuda.is_available() else 'cpu')"
   ]
  },
  {
   "cell_type": "markdown",
   "id": "7dadaea4",
   "metadata": {},
   "source": [
    "### Data"
   ]
  },
  {
   "cell_type": "code",
   "execution_count": 2,
   "id": "50f7c447",
   "metadata": {},
   "outputs": [],
   "source": [
    "DS_torch_dataset = torchvision.datasets.MNIST(\n",
    "    root=r\"C:\\Users\\matte\\LocalData\\Master Thesis\",\n",
    "    train=True,\n",
    "    download=True,\n",
    "    transform=trasf.ToTensor()\n",
    ")\n",
    "TS_torch_dataset = torchvision.datasets.MNIST(\n",
    "    root=r\"C:\\Users\\matte\\LocalData\\Master Thesis\",\n",
    "    train=False,\n",
    "    download=True,\n",
    "    transform=trasf.ToTensor()\n",
    ")\n",
    "\n",
    "# Load everything\n",
    "DS = TDataset(\n",
    "    x=th.stack([x.flatten() for x, y in DS_torch_dataset]).to(device),\n",
    "    y=th.tensor([y for x, y in DS_torch_dataset], device=device).reshape(-1, 1)\n",
    ")\n",
    "TS = TDataset(\n",
    "    x=th.stack([x.flatten() for x, y in TS_torch_dataset]).to(device),\n",
    "    y=th.tensor([y for x, y in TS_torch_dataset], device=device).reshape(-1, 1)\n",
    ")\n",
    "TR, VL = DS.random_split(5/6)\n",
    "\n",
    "# Dataloaders\n",
    "batch_size = 128\n",
    "DS_dl = DS.dataloader(batch_size=batch_size)\n",
    "TR_dl = TR.dataloader(batch_size=batch_size)\n",
    "VL_dl = VL.dataloader(batch_size=batch_size)\n",
    "TS_dl = TS.dataloader(batch_size=batch_size)\n",
    "TR_pndl = PosNeg_Bootstrap_TDataloader(TR, batch_size=batch_size)\n",
    "DS_pndl = PosNeg_Bootstrap_TDataloader(DS, batch_size=batch_size)"
   ]
  },
  {
   "cell_type": "markdown",
   "id": "b74216c3",
   "metadata": {},
   "source": [
    "### Model"
   ]
  },
  {
   "cell_type": "code",
   "execution_count": 3,
   "id": "127c40a2",
   "metadata": {},
   "outputs": [],
   "source": [
    "Model = FFA_withEntropy"
   ]
  },
  {
   "cell_type": "markdown",
   "id": "4439db02",
   "metadata": {},
   "source": [
    "***"
   ]
  },
  {
   "cell_type": "markdown",
   "id": "db4390e7",
   "metadata": {},
   "source": [
    "Final models"
   ]
  },
  {
   "cell_type": "code",
   "execution_count": 4,
   "id": "63b8f4ec",
   "metadata": {},
   "outputs": [],
   "source": [
    "hyp_Toff20 = {\n",
    "    'Nclasses': 10,\n",
    "    'A': (784+10, 20),\n",
    "    'f_hid': nn.ReLU(),\n",
    "    'lr_hot': 0.01,\n",
    "    'lr_cold': 0.01,\n",
    "    'momentum': 0.99, \n",
    "    'weight_decay': 0.0001,\n",
    "    'temperature': 0,\n",
    "    'kernel_scale': 10., # the value found in 'T on' experiment, to compare the value of H\n",
    "    'Nepochs': 24\n",
    "}\n",
    "hyp_Toff200 = {\n",
    "    'Nclasses': 10,\n",
    "    'A': (784+10, 200),\n",
    "    'f_hid': nn.ReLU(),\n",
    "    'lr_hot': 0.05,\n",
    "    'lr_cold': 0.05,\n",
    "    'momentum': 0.99, \n",
    "    'weight_decay': 1e-8,\n",
    "    'temperature': 0,\n",
    "    'kernel_scale': 90., # the value found in 'T on' experiment, to compare the value of H\n",
    "    'Nepochs': 24\n",
    "}\n",
    "hyp_Toff2000 = {\n",
    "    'Nclasses': 10,\n",
    "    'A': (784+10, 2000),\n",
    "    'f_hid': nn.ReLU(),\n",
    "    'lr_hot': 0.1,\n",
    "    'lr_cold': 0.1,\n",
    "    'momentum': 0.995, \n",
    "    'weight_decay': 1e-8,\n",
    "    'temperature': 0,\n",
    "    'kernel_scale': 900., # the value found in 'T on' experiment, to compare the value of H\n",
    "    'Nepochs': 30\n",
    "}\n",
    "hyp_Ton20 = {\n",
    "    'Nclasses': 10,\n",
    "    'A': (784+10, 20),\n",
    "    'f_hid': nn.ReLU(),\n",
    "    'lr_hot': 0.01,\n",
    "    'lr_cold': 0.01,\n",
    "    'momentum': 0.99, \n",
    "    'weight_decay': 0.0001,\n",
    "    'temperature': 0.1/3,\n",
    "    'kernel_scale': 10.,\n",
    "    'Nepochs': 24\n",
    "}\n",
    "hyp_Ton200 = {\n",
    "    'Nclasses': 10,\n",
    "    'A': (784+10, 200),\n",
    "    'f_hid': nn.ReLU(),\n",
    "    'lr_hot': 0.05,\n",
    "    'lr_cold': 0.05,\n",
    "    'momentum': 0.99, \n",
    "    'weight_decay': 1e-6,\n",
    "    'temperature': 3,\n",
    "    'kernel_scale': 90.,\n",
    "    'Nepochs': 24\n",
    "}\n",
    "hyp_Ton2000 = {\n",
    "    'Nclasses': 10,\n",
    "    'A': (784+10, 2000),\n",
    "    'f_hid': nn.ReLU(),\n",
    "    'lr_hot': 0.1,\n",
    "    'lr_cold': 0.1,\n",
    "    'momentum': 0.995, \n",
    "    'weight_decay': 1e-8,\n",
    "    'temperature': 30.,\n",
    "    'kernel_scale': 900.,\n",
    "    'Nepochs': 30\n",
    "}\n",
    "\n",
    "exps = {\n",
    "    'Toff20': hyp_Toff20,\n",
    "    'Toff200': hyp_Toff200,\n",
    "    'Toff2000': hyp_Toff2000,\n",
    "    'Ton20': hyp_Ton20,\n",
    "    'Ton200': hyp_Ton200,\n",
    "    'Ton2000': hyp_Ton2000,\n",
    "}"
   ]
  },
  {
   "cell_type": "markdown",
   "id": "260cdccb",
   "metadata": {},
   "source": [
    "***"
   ]
  },
  {
   "cell_type": "code",
   "execution_count": 5,
   "id": "a402a00a",
   "metadata": {},
   "outputs": [
    {
     "name": "stdout",
     "output_type": "stream",
     "text": [
      "Toff20: 287.391 +- 19.7 sec\n",
      "Toff200: 287.876 +- 5.47 sec\n",
      "Toff2000: 356.384 +- 6.99 sec\n",
      "Ton20: 343.27 +- 7.15 sec\n",
      "Ton200: 345.051 +- 8.43 sec\n",
      "Ton2000: 509.672 +- 7.28 sec\n"
     ]
    }
   ],
   "source": [
    "import time\n",
    "_tic = 0.\n",
    "\n",
    "def tic ():\n",
    "    global _tic\n",
    "    _tic = time.time()\n",
    "       \n",
    "def toc ():\n",
    "    measure = time.time() - _tic\n",
    "    return measure\n",
    "\n",
    "for exp, hyp in exps.items():\n",
    "    print(exp, end=': ')\n",
    "    times = []\n",
    "    for trial in range(5):\n",
    "        m = Model(hyp).to(device)\n",
    "        tic()\n",
    "        m.fit(DS_pndl)\n",
    "        times.append(toc())\n",
    "    mean = np.mean(times)\n",
    "    std = np.std(times, ddof=1)\n",
    "    print(f\"{mean:.6g} +- {std:.3g} sec\")"
   ]
  }
 ],
 "metadata": {
  "accelerator": "GPU",
  "colab": {
   "provenance": []
  },
  "gpuClass": "standard",
  "kernelspec": {
   "display_name": "Python 3 (ipykernel)",
   "language": "python",
   "name": "python3"
  },
  "language_info": {
   "codemirror_mode": {
    "name": "ipython",
    "version": 3
   },
   "file_extension": ".py",
   "mimetype": "text/x-python",
   "name": "python",
   "nbconvert_exporter": "python",
   "pygments_lexer": "ipython3",
   "version": "3.9.13"
  }
 },
 "nbformat": 4,
 "nbformat_minor": 5
}
