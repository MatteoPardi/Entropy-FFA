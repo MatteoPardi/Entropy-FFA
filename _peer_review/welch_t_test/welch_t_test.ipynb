{
 "cells": [
  {
   "cell_type": "markdown",
   "id": "4a08dc49",
   "metadata": {
    "id": "4a08dc49"
   },
   "source": [
    "# Welch t test"
   ]
  },
  {
   "cell_type": "markdown",
   "id": "6f0faffd",
   "metadata": {},
   "source": [
    "### Utils"
   ]
  },
  {
   "cell_type": "code",
   "execution_count": 1,
   "id": "3da12675",
   "metadata": {
    "executionInfo": {
     "elapsed": 8497,
     "status": "ok",
     "timestamp": 1682771645553,
     "user": {
      "displayName": "Matteo Pardi",
      "userId": "09618049524039758602"
     },
     "user_tz": -120
    },
    "id": "3da12675"
   },
   "outputs": [],
   "source": [
    "from scipy.stats import ttest_ind_from_stats\n",
    "\n",
    "rows_with_numerical_results = [4, 6, 7, 8, 10]\n",
    "\n",
    "def read_table_pre_review (exp):\n",
    "    \n",
    "    with open(exp+'_table_pre_review.txt', 'r') as f:\n",
    "        rows = f.readlines()\n",
    "        results = {}\n",
    "        for i in rows_with_numerical_results:\n",
    "            row = rows[i].split(' & ')\n",
    "            layers = row[0]\n",
    "            results[layers] = [get_mean_and_std(result) for result in row[1:]]\n",
    "    return rows, results\n",
    "\n",
    "def get_mean_and_std (result):\n",
    "    '''\n",
    "    expected format:\n",
    "    1. '${90.0}_{\\\\pm 0.1}$'\n",
    "    2. '$\\\\mathbf{99.2}_{\\\\pm 0.7}$'\n",
    "    '''    \n",
    "    tmp = result.split('}_{\\\\pm ')\n",
    "    mean = tmp[0].split('{')[1]\n",
    "    std = tmp[1].split('}')[0]\n",
    "    return {'mean': float(mean), 'std': float(std), 'mean_str': mean, 'std_str': std}\n",
    "\n",
    "# --------------------------------------------------------\n",
    "\n",
    "couples = [(0, 1), (2, 3), (4, 5)]\n",
    "\n",
    "def make_welch_t_test (results, alpha, nobs):\n",
    "    \n",
    "    for layers, result in results.items():\n",
    "        for couple in couples:\n",
    "            r1, r2 = result[couple[0]], result[couple[1]]\n",
    "            _, pvalue = ttest_ind_from_stats(\n",
    "                r1['mean'], r1['std'], nobs,\n",
    "                r2['mean'], r2['std'], nobs,\n",
    "                equal_var=False, # Welch\n",
    "                alternative='two-sided'\n",
    "            )\n",
    "            r1['win'] = r1['mean'] >= r2['mean']\n",
    "            r2['win'] = r2['mean'] >= r1['mean']\n",
    "            r1['pvalue'] = pvalue\n",
    "            r2['pvalue'] = pvalue\n",
    "            r1['bold'] = r1['win'] or (pvalue > alpha and r2['mean'] < 100)\n",
    "            r2['bold'] = r2['win'] or (pvalue > alpha and r1['mean'] < 100)\n",
    "    return results\n",
    "\n",
    "# --------------------------------------------------------\n",
    "\n",
    "def save_table_post_review (exp, rows, results):\n",
    "     \n",
    "    for i, layers in zip(rows_with_numerical_results, results.keys()):\n",
    "        rows[i] = layers + ' & ' + get_row_to_print(results[layers]) + ' \\\\\\\\\\n'\n",
    "    with open(exp+'_table_post_review.txt', 'w') as f:\n",
    "        for row in rows: f.write(row)\n",
    "            \n",
    "def get_row_to_print (result):\n",
    "    \n",
    "    s = ''\n",
    "    count = 0\n",
    "    for r in result:\n",
    "        if count != 0: s += ' & '\n",
    "        s += my_latex_format(r)\n",
    "        count += 1\n",
    "    return s\n",
    "\n",
    "def my_latex_format (r):\n",
    "\n",
    "    if r['bold'] == True: return \"$\\\\mathbf{\" + r['mean_str'] + \"}_{\\\\pm \" + r['std_str'] + \"}$\"\n",
    "    else: return \"${\" + r['mean_str'] + \"}_{\\\\pm \" + r['std_str'] + \"}$\""
   ]
  },
  {
   "cell_type": "markdown",
   "id": "fe368a7a",
   "metadata": {},
   "source": [
    "***"
   ]
  },
  {
   "cell_type": "markdown",
   "id": "0472b427",
   "metadata": {},
   "source": [
    "### Main"
   ]
  },
  {
   "cell_type": "code",
   "execution_count": 2,
   "id": "b0302a6d",
   "metadata": {},
   "outputs": [],
   "source": [
    "for exp in ['2moon', 'nsy2moon', 'mnist']:\n",
    "\n",
    "    rows, results = read_table_pre_review(exp)\n",
    "    results = make_welch_t_test(results, alpha=0.05, nobs=5)\n",
    "    save_table_post_review(exp, rows, results)"
   ]
  }
 ],
 "metadata": {
  "accelerator": "GPU",
  "colab": {
   "provenance": []
  },
  "gpuClass": "standard",
  "kernelspec": {
   "display_name": "Python 3 (ipykernel)",
   "language": "python",
   "name": "python3"
  },
  "language_info": {
   "codemirror_mode": {
    "name": "ipython",
    "version": 3
   },
   "file_extension": ".py",
   "mimetype": "text/x-python",
   "name": "python",
   "nbconvert_exporter": "python",
   "pygments_lexer": "ipython3",
   "version": "3.9.13"
  }
 },
 "nbformat": 4,
 "nbformat_minor": 5
}
